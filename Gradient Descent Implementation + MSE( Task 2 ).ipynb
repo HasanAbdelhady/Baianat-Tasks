{
 "cells": [
  {
   "cell_type": "code",
   "execution_count": 24,
   "id": "96dba121",
   "metadata": {},
   "outputs": [],
   "source": [
    "import pandas as pd\n",
    "import numpy as np\n",
    "import matplotlib.pyplot as plt\n",
    "import seaborn as sns"
   ]
  },
  {
   "cell_type": "code",
   "execution_count": 25,
   "id": "72a56552",
   "metadata": {},
   "outputs": [],
   "source": [
    "X = np.random.randn(20,)\n",
    "Y = 2*X + np.random.rand()\n",
    "X.shape\n",
    "X_train = X[: 16]\n",
    "X_test = X[16: ]\n",
    "y_train = Y[: 16]\n",
    "y_test = Y[16: ]\n",
    "\n",
    "def mean_squared_error(y_true, y_predicted):\n",
    "     \n",
    "    # Calculating the loss or cost\n",
    "    cost = np.sum((y_true-y_predicted)**2) / len(y_true)\n",
    "    return cost\n"
   ]
  },
  {
   "cell_type": "code",
   "execution_count": 26,
   "id": "b1bc041b",
   "metadata": {},
   "outputs": [],
   "source": [
    "def gd(x , y , iterations = 1000 , learning_rate = 0.05 , stop_point = 1e-4) :\n",
    "    \n",
    "    costs = []\n",
    "    weights = []\n",
    "    n = float(len(x))\n",
    "    previous_cost = None\n",
    "    current_weight = 0.1\n",
    "    current_bias = 0.01\n",
    "    \n",
    "    for i in range(iterations) :\n",
    "        y_pred = (current_weight * x) + current_bias\n",
    "        \n",
    "        current_cost = mean_squared_error(y , y_pred)\n",
    "        \n",
    "        if previous_cost and abs(previous_cost - current_cost) <= stop_point :\n",
    "            break\n",
    "            \n",
    "        costs.append(current_cost)\n",
    "        weights.append(current_weight)\n",
    "        \n",
    "        previous_cost = current_cost\n",
    "        \n",
    "        # calculating the gredients\n",
    "        weight_derivative = -(2/n) * sum(x * (y - y_pred))\n",
    "        bias_derivative = -(2/n) * sum(y - y_pred)\n",
    "        \n",
    "        # updating for weight and bais\n",
    "        current_weight = current_weight - (learning_rate * weight_derivative)\n",
    "        current_bias = current_bias - (learning_rate * bias_derivative)\n",
    "        \n",
    "    print('iteration : ' , i)\n",
    "    # Visualizing the weights and cost at for all iterations\n",
    "    plt.figure(figsize = (8,6))\n",
    "    plt.plot(weights, costs)\n",
    "    plt.scatter(weights, costs, marker='o', color='red')\n",
    "    plt.title(\"Cost vs Weights\")\n",
    "    plt.ylabel(\"Cost\")\n",
    "    plt.xlabel(\"Weight\")\n",
    "    plt.show()\n",
    "    \n",
    "    return current_weight, current_bias"
   ]
  },
  {
   "cell_type": "code",
   "execution_count": 27,
   "id": "701c63d2",
   "metadata": {},
   "outputs": [
    {
     "name": "stdout",
     "output_type": "stream",
     "text": [
      "iteration :  37\n"
     ]
    },
    {
     "data": {
      "image/png": "[encoded data removed]",
      "text/plain": [
       "<Figure size 576x432 with 1 Axes>"
      ]
     },
     "metadata": {
      "needs_background": "light"
     },
     "output_type": "display_data"
    },
    {
     "name": "stdout",
     "output_type": "stream",
     "text": [
      "Estimated Weight: 1.9857112427646813\n",
      "Estimated Bias: 0.25327682962706305\n"
     ]
    }
   ],
   "source": [
    "estimated_weight, estimated_bias = gd(X_train, y_train, iterations=2000)\n",
    "print(f\"Estimated Weight: {estimated_weight}\\nEstimated Bias: {estimated_bias}\")\n",
    "\n"
   ]
  },
  {
   "cell_type": "code",
   "execution_count": 28,
   "id": "41094dda",
   "metadata": {
    "scrolled": true
   },
   "outputs": [
    {
     "data": {
      "image/png": "[encoded data removed]",
      "text/plain": [
       "<Figure size 576x432 with 1 Axes>"
      ]
     },
     "metadata": {
      "needs_background": "light"
     },
     "output_type": "display_data"
    }
   ],
   "source": [
    "y_pred = estimated_weight*X_test + estimated_bias\n",
    "\n",
    "plt.figure(figsize = (8,6))\n",
    "plt.scatter(X, Y, marker='o', color='red')\n",
    "plt.plot([min(X), max(X)], [min(y_pred), max(y_pred)], color='blue',markerfacecolor='red',\n",
    "            markersize=10,linestyle='dashed')\n",
    "plt.xlabel(\"X\")\n",
    "plt.ylabel(\"Y\")\n",
    "plt.show()"
   ]
  },
  {
   "cell_type": "code",
   "execution_count": null,
   "id": "da314e45",
   "metadata": {},
   "outputs": [],
   "source": []
  }
 ],
 "metadata": {
  "kernelspec": {
   "display_name": "Python 3 (ipykernel)",
   "language": "python",
   "name": "python3"
  },
  "language_info": {
   "codemirror_mode": {
    "name": "ipython",
    "version": 3
   },
   "file_extension": ".py",
   "mimetype": "text/x-python",
   "name": "python",
   "nbconvert_exporter": "python",
   "pygments_lexer": "ipython3",
   "version": "3.9.12"
  },
  "varInspector": {
   "cols": {
    "lenName": 16,
    "lenType": 16,
    "lenVar": 40
   },
   "kernels_config": {
    "python": {
     "delete_cmd_postfix": "",
     "delete_cmd_prefix": "del ",
     "library": "var_list.py",
     "varRefreshCmd": "print(var_dic_list())"
    },
    "r": {
     "delete_cmd_postfix": ") ",
     "delete_cmd_prefix": "rm(",
     "library": "var_list.r",
     "varRefreshCmd": "cat(var_dic_list()) "
    }
   },
   "types_to_exclude": [
    "module",
    "function",
    "builtin_function_or_method",
    "instance",
    "_Feature"
   ],
   "window_display": false
  }
 },
 "nbformat": 4,
 "nbformat_minor": 5
}
