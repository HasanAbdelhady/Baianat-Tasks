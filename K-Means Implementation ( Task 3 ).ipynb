{
 "cells": [
  {
   "cell_type": "code",
   "execution_count": 13,
   "id": "c7d1bb59",
   "metadata": {},
   "outputs": [
    {
     "name": "stdout",
     "output_type": "stream",
     "text": [
      "[[2.49671415 1.8617357 ]\n",
      " [2.64768854 3.52302986]\n",
      " [1.76584663 1.76586304]\n",
      " [3.57921282 2.76743473]\n",
      " [1.53052561 2.54256004]\n",
      " [1.53658231 1.53427025]\n",
      " [2.24196227 0.08671976]\n",
      " [0.27508217 1.43771247]\n",
      " [0.98716888 2.31424733]\n",
      " [1.09197592 0.5876963 ]\n",
      " [3.46564877 1.7742237 ]\n",
      " [2.0675282  0.57525181]\n",
      " [1.45561728 2.11092259]\n",
      " [0.84900642 2.37569802]\n",
      " [1.39936131 1.70830625]\n",
      " [1.39829339 3.85227818]\n",
      " [1.98650278 0.94228907]\n",
      " [2.82254491 0.77915635]\n",
      " [2.2088636  0.04032988]\n",
      " [0.67181395 2.19686124]\n",
      " [2.73846658 2.17136828]\n",
      " [1.88435172 1.6988963 ]\n",
      " [0.52147801 1.28015579]\n",
      " [1.53936123 3.05712223]\n",
      " [2.34361829 0.23695984]\n",
      " [2.32408397 1.61491772]\n",
      " [1.323078   2.61167629]\n",
      " [3.03099952 2.93128012]\n",
      " [1.16078248 1.69078762]\n",
      " [2.33126343 2.97554513]]\n",
      "================================================\n",
      "[[ 7.52082576  7.81434102]\n",
      " [ 6.89366503  6.80379338]\n",
      " [ 8.81252582  9.35624003]\n",
      " [ 7.92798988  9.0035329 ]\n",
      " [ 8.36163603  7.35488025]\n",
      " [ 8.36139561  9.53803657]\n",
      " [ 7.96417396  9.56464366]\n",
      " [ 5.3802549   8.8219025 ]\n",
      " [ 8.08704707  7.70099265]\n",
      " [ 8.09176078  6.01243109]\n",
      " [ 7.78032811  8.35711257]\n",
      " [ 9.47789404  7.48172978]\n",
      " [ 7.1915064   7.49824296]\n",
      " [ 8.91540212  8.32875111]\n",
      " [ 7.4702398   8.51326743]\n",
      " [ 8.09707755  8.96864499]\n",
      " [ 7.29794691  7.67233785]\n",
      " [ 7.60789185  6.53648505]\n",
      " [ 8.29612028  8.26105527]\n",
      " [ 8.00511346  7.76541287]\n",
      " [ 6.58462926  7.57935468]\n",
      " [ 7.65728548  7.19772273]\n",
      " [ 7.83871429  8.40405086]\n",
      " [ 9.8861859   8.17457781]\n",
      " [ 8.25755039  7.92555408]\n",
      " [ 6.08122878  7.97348612]\n",
      " [ 8.06023021 10.46324211]\n",
      " [ 7.80763904  8.30154734]\n",
      " [ 7.96528823  6.83132196]\n",
      " [ 9.14282281  8.75193303]]\n",
      "================================================\n",
      "[[ 2.49671415  1.8617357 ]\n",
      " [ 2.64768854  3.52302986]\n",
      " [ 1.76584663  1.76586304]\n",
      " [ 3.57921282  2.76743473]\n",
      " [ 1.53052561  2.54256004]\n",
      " [ 1.53658231  1.53427025]\n",
      " [ 2.24196227  0.08671976]\n",
      " [ 0.27508217  1.43771247]\n",
      " [ 0.98716888  2.31424733]\n",
      " [ 1.09197592  0.5876963 ]\n",
      " [ 3.46564877  1.7742237 ]\n",
      " [ 2.0675282   0.57525181]\n",
      " [ 1.45561728  2.11092259]\n",
      " [ 0.84900642  2.37569802]\n",
      " [ 1.39936131  1.70830625]\n",
      " [ 1.39829339  3.85227818]\n",
      " [ 1.98650278  0.94228907]\n",
      " [ 2.82254491  0.77915635]\n",
      " [ 2.2088636   0.04032988]\n",
      " [ 0.67181395  2.19686124]\n",
      " [ 2.73846658  2.17136828]\n",
      " [ 1.88435172  1.6988963 ]\n",
      " [ 0.52147801  1.28015579]\n",
      " [ 1.53936123  3.05712223]\n",
      " [ 2.34361829  0.23695984]\n",
      " [ 2.32408397  1.61491772]\n",
      " [ 1.323078    2.61167629]\n",
      " [ 3.03099952  2.93128012]\n",
      " [ 1.16078248  1.69078762]\n",
      " [ 2.33126343  2.97554513]\n",
      " [ 7.52082576  7.81434102]\n",
      " [ 6.89366503  6.80379338]\n",
      " [ 8.81252582  9.35624003]\n",
      " [ 7.92798988  9.0035329 ]\n",
      " [ 8.36163603  7.35488025]\n",
      " [ 8.36139561  9.53803657]\n",
      " [ 7.96417396  9.56464366]\n",
      " [ 5.3802549   8.8219025 ]\n",
      " [ 8.08704707  7.70099265]\n",
      " [ 8.09176078  6.01243109]\n",
      " [ 7.78032811  8.35711257]\n",
      " [ 9.47789404  7.48172978]\n",
      " [ 7.1915064   7.49824296]\n",
      " [ 8.91540212  8.32875111]\n",
      " [ 7.4702398   8.51326743]\n",
      " [ 8.09707755  8.96864499]\n",
      " [ 7.29794691  7.67233785]\n",
      " [ 7.60789185  6.53648505]\n",
      " [ 8.29612028  8.26105527]\n",
      " [ 8.00511346  7.76541287]\n",
      " [ 6.58462926  7.57935468]\n",
      " [ 7.65728548  7.19772273]\n",
      " [ 7.83871429  8.40405086]\n",
      " [ 9.8861859   8.17457781]\n",
      " [ 8.25755039  7.92555408]\n",
      " [ 6.08122878  7.97348612]\n",
      " [ 8.06023021 10.46324211]\n",
      " [ 7.80763904  8.30154734]\n",
      " [ 7.96528823  6.83132196]\n",
      " [ 9.14282281  8.75193303]]\n"
     ]
    }
   ],
   "source": [
    "import numpy as np\n",
    "\n",
    "# Set random seed for reproducibility\n",
    "#like a random state\n",
    "np.random.seed(42)\n",
    "\n",
    "# Generate the first cluster around (2, 2)\n",
    "cluster1 = np.random.randn(30, 2) + [2, 2]\n",
    "\n",
    "# Generate the second cluster around (8, 8)\n",
    "cluster2 = np.random.randn(30, 2) + [8, 8]\n",
    "\n",
    "# Combine the two clusters\n",
    "data = np.vstack((cluster1, cluster2))\n",
    "print(cluster1)\n",
    "print(\"================================================\")\n",
    "print(cluster2)\n",
    "print(\"================================================\")\n",
    "print(data)"
   ]
  },
  {
   "cell_type": "code",
   "execution_count": 18,
   "id": "a48f2215",
   "metadata": {},
   "outputs": [],
   "source": [
    "def k_means(data, k, max_iters=1000):\n",
    "    centroids = data[np.random.choice(len(data), k, replace=False)]\n",
    "    \n",
    "    for _ in range(max_iters):\n",
    "        # Assign each point to the nearest centroid\n",
    "        labels = np.argmin(np.linalg.norm(data[:, np.newaxis] - centroids, axis=2), axis=1)\n",
    "        \n",
    "        # Update centroids\n",
    "        new_centroids = np.array([data[labels == i].mean(axis=0) for i in range(k)])\n",
    "        \n",
    "        # Check for convergence\n",
    "        if np.all(centroids == new_centroids):\n",
    "            break\n",
    "        \n",
    "        centroids = new_centroids\n",
    "    \n",
    "    return centroids, labels\n",
    "\n",
    "# Number of clusters (k)\n",
    "k = 2\n",
    "\n",
    "centroids, labels = k_means(data, k)\n"
   ]
  },
  {
   "cell_type": "code",
   "execution_count": 19,
   "id": "51aac2a8",
   "metadata": {},
   "outputs": [
    {
     "data": {
      "image/png": "[encoded data removed]",
      "text/plain": [
       "<Figure size 432x288 with 1 Axes>"
      ]
     },
     "metadata": {
      "needs_background": "light"
     },
     "output_type": "display_data"
    }
   ],
   "source": [
    "import matplotlib.pyplot as plt\n",
    "\n",
    "plt.scatter(data[:, 0], data[:, 1], c=labels, cmap='viridis')\n",
    "plt.scatter(centroids[:, 0], centroids[:, 1], marker='*', s=200, color='red')\n",
    "plt.title(\"K-means Clustering\")\n",
    "plt.xlabel(\"X Coordinate\")\n",
    "plt.ylabel(\"Y Coordinate\")\n",
    "plt.show()\n"
   ]
  },
  {
   "cell_type": "code",
   "execution_count": null,
   "id": "63b24b51",
   "metadata": {},
   "outputs": [],
   "source": []
  },
  {
   "cell_type": "code",
   "execution_count": null,
   "id": "d4d2eaef",
   "metadata": {},
   "outputs": [],
   "source": []
  }
 ],
 "metadata": {
  "kernelspec": {
   "display_name": "Python 3 (ipykernel)",
   "language": "python",
   "name": "python3"
  },
  "language_info": {
   "codemirror_mode": {
    "name": "ipython",
    "version": 3
   },
   "file_extension": ".py",
   "mimetype": "text/x-python",
   "name": "python",
   "nbconvert_exporter": "python",
   "pygments_lexer": "ipython3",
   "version": "3.9.12"
  },
  "varInspector": {
   "cols": {
    "lenName": 16,
    "lenType": 16,
    "lenVar": 40
   },
   "kernels_config": {
    "python": {
     "delete_cmd_postfix": "",
     "delete_cmd_prefix": "del ",
     "library": "var_list.py",
     "varRefreshCmd": "print(var_dic_list())"
    },
    "r": {
     "delete_cmd_postfix": ") ",
     "delete_cmd_prefix": "rm(",
     "library": "var_list.r",
     "varRefreshCmd": "cat(var_dic_list()) "
    }
   },
   "types_to_exclude": [
    "module",
    "function",
    "builtin_function_or_method",
    "instance",
    "_Feature"
   ],
   "window_display": false
  }
 },
 "nbformat": 4,
 "nbformat_minor": 5
}
